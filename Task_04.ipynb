{
 "cells": [
  {
   "cell_type": "code",
   "execution_count": null,
   "id": "8bb9a4c0-1565-40c3-9d8c-34c7f7ddac62",
   "metadata": {},
   "outputs": [],
   "source": []
  }
 ],
 "metadata": {
  "kernelspec": {
   "display_name": "",
   "name": ""
  },
  "language_info": {
   "name": ""
  }
 },
 "nbformat": 4,
 "nbformat_minor": 5
}
